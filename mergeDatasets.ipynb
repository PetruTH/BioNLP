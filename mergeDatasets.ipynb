{
 "cells": [
  {
   "cell_type": "code",
   "execution_count": null,
   "id": "e7df9655",
   "metadata": {},
   "outputs": [],
   "source": [
    "import pandas as pd\n",
    "\n",
    "df1 = pd.read_csv('depresieGOLD/DEPRESIE_part1_GOLD.csv')\n",
    "df2 = pd.read_csv('depresieGOLD/DEPRESIE_part2_GOLD.csv')\n",
    "df3 = pd.read_csv('depresieGOLD/DEPRESIE_part3_GOLD.csv')\n",
    "\n",
    "df1 = df1[['sentence']]\n",
    "df3 = df3[['sentence']]\n",
    "df2 = df2[['sentence']]\n",
    "\n",
    "manual_df_merged = pd.concat([df1, df2, df3], ignore_index=True)\n",
    "\n",
    "manual_df_merged['source'] = 'SCRAPED'\n",
    "\n",
    "manual_df_merged.reset_index(drop=True, inplace=True)\n",
    "\n"
   ]
  },
  {
   "cell_type": "code",
   "execution_count": 32,
   "id": "ffc386fe",
   "metadata": {},
   "outputs": [],
   "source": [
    "with open('depresieGOLD/translated_DEPRESSION_sentences_UPDATED.txt', 'r', encoding='utf-8') as f:\n",
    "    sentences = []\n",
    "    for line in f:\n",
    "        line = line.strip()\n",
    "        if line:\n",
    "            phrase = line.split('. ', 1)[1] if '. ' in line else line\n",
    "            sentences.append(phrase)\n",
    "\n",
    "\n",
    "df_translated = pd.DataFrame({\n",
    "    'sentence': sentences\n",
    "})\n",
    "\n",
    "df_translated['source'] = 'MACHINE_TRANSLATION'\n"
   ]
  },
  {
   "cell_type": "code",
   "execution_count": 33,
   "id": "302d7d56",
   "metadata": {},
   "outputs": [],
   "source": [
    "all_df = pd.concat([manual_df_merged, df_translated], ignore_index=True)\n",
    "\n",
    "all_df.insert(0, 'real_index', range(1, len(all_df) + 1))\n",
    "\n",
    "all_df.to_csv('depresieGOLD/DEPRESIE_GOLD_sentences.csv', index=False, encoding='utf-8')\n"
   ]
  },
  {
   "cell_type": "code",
   "execution_count": 34,
   "id": "f0680c15",
   "metadata": {},
   "outputs": [],
   "source": [
    "# NON DEPRESSION merging\n",
    "\n",
    "import pandas as pd\n",
    "\n",
    "df1 = pd.read_csv('NONDEPRESIE_GOLD//merged_output_sentences_NON_DEPRESSION.csv')\n",
    "df1 = df1[['sentence']]\n",
    "df1['source'] = 'SCRAPED'\n",
    "\n",
    "df1.reset_index(drop=True, inplace=True)\n",
    "\n"
   ]
  },
  {
   "cell_type": "code",
   "execution_count": 35,
   "id": "58a08804",
   "metadata": {},
   "outputs": [],
   "source": [
    "with open('NONDEPRESIE_GOLD/translated_NON_DEPRESSION_sentences_UPDATED.txt', 'r', encoding='utf-8') as f:\n",
    "    sentences = []\n",
    "    for line in f:\n",
    "        line = line.strip()\n",
    "        if line:\n",
    "            phrase = line.split('. ', 1)[1] if '. ' in line else line\n",
    "            sentences.append(phrase)\n",
    "\n",
    "\n",
    "df_translated = pd.DataFrame({\n",
    "    'sentence': sentences\n",
    "})\n",
    "\n",
    "df_translated['source'] = 'MACHINE_TRANSLATION'\n"
   ]
  },
  {
   "cell_type": "code",
   "execution_count": 36,
   "id": "3368a2d3",
   "metadata": {},
   "outputs": [],
   "source": [
    "all_df = pd.concat([df1, df_translated], ignore_index=True)\n",
    "\n",
    "all_df.insert(0, 'real_index', range(1, len(all_df) + 1))\n",
    "\n",
    "all_df.to_csv('NONDEPRESIE_GOLD/NON_DEPRESIE_GOLD_sentences.csv', index=False, encoding='utf-8')\n"
   ]
  },
  {
   "cell_type": "code",
   "execution_count": null,
   "id": "352c082e",
   "metadata": {},
   "outputs": [],
   "source": [
    "n_total = 2500\n",
    "n_manual = int(n_total * 0.75)\n",
    "n_machine = n_total - n_manual\n",
    "\n",
    "manual_df = all_df[all_df['source'] == 'SCRAPED']\n",
    "machine_df = all_df[all_df['source'] == 'MACHINE_TRANSLATION']\n",
    "\n",
    "n_manual = min(n_manual, len(manual_df))\n",
    "n_machine = min(n_machine, len(machine_df))\n",
    "\n",
    "manual_samples = manual_df.sample(n=n_manual, random_state=42)\n",
    "machine_samples = machine_df.sample(n=n_machine, random_state=42)\n",
    "\n",
    "sub_df = pd.concat([manual_samples, machine_samples]).sample(frac=1, random_state=42).reset_index(drop=True)\n",
    "\n",
    "sub_df.to_csv('NONDEPRESIE_GOLD/NON_DEPRESIE_GOLD_subset.csv', index=False, encoding='utf-8')"
   ]
  },
  {
   "cell_type": "code",
   "execution_count": 43,
   "id": "79496463",
   "metadata": {},
   "outputs": [],
   "source": [
    "# merge both datasets\n",
    "nondep_df = pd.read_csv('NONDEPRESIE_GOLD/NON_DEPRESIE_GOLD_subset.csv')\n",
    "nondep_df['label'] = 1\n",
    "\n",
    "\n",
    "dep_df = pd.read_csv('depresieGOLD/DEPRESIE_GOLD_sentences.csv')\n",
    "dep_df['label'] = 0\n",
    "\n",
    "full_dataset = pd.concat([dep_df, nondep_df], ignore_index=True)\n",
    "\n",
    "full_dataset.reset_index(drop=True, inplace=True)\n",
    "\n",
    "full_dataset = full_dataset.sample(frac=1, random_state=42).reset_index(drop=True)\n",
    "\n",
    "\n",
    "full_dataset.to_csv('fullDataset.csv', index=False, encoding='utf-8')\n",
    "\n",
    "\n"
   ]
  },
  {
   "cell_type": "code",
   "execution_count": null,
   "id": "29c84304",
   "metadata": {},
   "outputs": [],
   "source": []
  },
  {
   "cell_type": "code",
   "execution_count": null,
   "id": "c2b283f2",
   "metadata": {},
   "outputs": [],
   "source": []
  }
 ],
 "metadata": {
  "kernelspec": {
   "display_name": "Python 3",
   "language": "python",
   "name": "python3"
  },
  "language_info": {
   "codemirror_mode": {
    "name": "ipython",
    "version": 3
   },
   "file_extension": ".py",
   "mimetype": "text/x-python",
   "name": "python",
   "nbconvert_exporter": "python",
   "pygments_lexer": "ipython3",
   "version": "3.12.10"
  }
 },
 "nbformat": 4,
 "nbformat_minor": 5
}
