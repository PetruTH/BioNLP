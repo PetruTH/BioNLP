{
 "cells": [
  {
   "cell_type": "code",
   "execution_count": null,
   "id": "f660814d",
   "metadata": {},
   "outputs": [],
   "source": [
    "import pandas as pd\n",
    "import numpy as np\n",
    "import re\n",
    "from sklearn.model_selection import train_test_split\n",
    "from sklearn.svm import SVC\n",
    "from sklearn.metrics import classification_report, accuracy_score\n",
    "from gensim.models import Word2Vec\n",
    "from tqdm import tqdm\n",
    "import pandas as pd\n",
    "import numpy as np\n",
    "import torch\n",
    "from sklearn.model_selection import train_test_split\n",
    "from sklearn.svm import SVC\n",
    "from sklearn.metrics import classification_report, accuracy_score\n",
    "from transformers import AutoTokenizer, AutoModel\n",
    "from tqdm import tqdm\n"
   ]
  },
  {
   "cell_type": "code",
   "execution_count": null,
   "id": "da5ad1be",
   "metadata": {},
   "outputs": [],
   "source": [
    "\n",
    "df = pd.read_csv('fullDataset.csv')\n",
    "\n",
    "# drop MT\n",
    "# df = df[df['source'] != 'MACHINE_TRANSLATION']\n",
    "\n",
    "df = df[['sentence', 'label']]\n",
    "\n",
    "def clean_text(text):\n",
    "    text = text.lower()\n",
    "    text = re.sub(r'[^a-zăîâșțA-ZĂÎÂȘȚ ]+', '', text)  \n",
    "    return text\n",
    "\n",
    "df['clean_sentence'] = df['sentence'].astype(str).apply(clean_text)\n",
    "\n",
    "df['tokens'] = df['clean_sentence'].apply(lambda x: x.split())\n",
    "\n",
    "sentences = df['tokens'].tolist()\n",
    "\n",
    "w2v_model = Word2Vec(\n",
    "    sentences,\n",
    "    vector_size=100,  \n",
    "    window=5,\n",
    "    min_count=1,    \n",
    "    workers=4,\n",
    "    sg=1            \n",
    ")\n",
    "\n",
    "def get_sentence_vector(tokens, model):\n",
    "    vec = []\n",
    "    for word in tokens:\n",
    "        if word in model.wv:\n",
    "            vec.append(model.wv[word])\n",
    "    if len(vec) == 0:\n",
    "        return np.zeros(model.vector_size)\n",
    "    else:\n",
    "        return np.mean(vec, axis=0)\n"
   ]
  },
  {
   "cell_type": "code",
   "execution_count": null,
   "id": "8dc90ea8",
   "metadata": {},
   "outputs": [],
   "source": [
    "\n",
    "X = np.array([get_sentence_vector(tokens, w2v_model) for tokens in df['tokens']])\n",
    "y = df['label'].values\n"
   ]
  },
  {
   "cell_type": "code",
   "execution_count": null,
   "id": "56b32881",
   "metadata": {},
   "outputs": [],
   "source": [
    "\n",
    "X_train, X_test, y_train, y_test = train_test_split(X, y, test_size=0.2, random_state=42, stratify=y)\n"
   ]
  },
  {
   "cell_type": "code",
   "execution_count": null,
   "id": "8edf955c",
   "metadata": {},
   "outputs": [],
   "source": [
    "svm = SVC(kernel='linear', C=1, random_state=42)\n",
    "svm.fit(X_train, y_train)\n",
    "\n",
    "y_pred = svm.predict(X_test)\n",
    "\n",
    "print(\"Accuracy:\", accuracy_score(y_test, y_pred))\n",
    "print(\"Classification Report:\\n\", classification_report(y_test, y_pred))\n",
    "print(\"Confusion Matrix:\\n\", pd.crosstab(y_test, y_pred, rownames=['Actual'], colnames=['Predicted'], margins=True) )\n"
   ]
  },
  {
   "cell_type": "code",
   "execution_count": null,
   "id": "31dd3f74",
   "metadata": {},
   "outputs": [],
   "source": [
    "model_name = 'dumitrescustefan/bert-base-romanian-cased-v1'  # Romanian BERT\n",
    "tokenizer = AutoTokenizer.from_pretrained(model_name)\n",
    "model = AutoModel.from_pretrained(model_name)\n",
    "\n",
    "device = torch.device('cuda' if torch.cuda.is_available() else 'cpu')\n",
    "model = model.to(device)\n",
    "model.eval()\n",
    "\n",
    "def get_bert_embedding(text):\n",
    "    tokens = tokenizer(text, padding='max_length', truncation=True, max_length=64, return_tensors='pt')\n",
    "    tokens = {key: val.to(device) for key, val in tokens.items()}\n",
    "\n",
    "    with torch.no_grad():\n",
    "        outputs = model(**tokens)\n",
    "        hidden_states = outputs.last_hidden_state  \n",
    "        embedding = hidden_states.mean(dim=1).squeeze().cpu().numpy()\n",
    "    return embedding\n",
    "\n",
    "embeddings = []\n",
    "\n",
    "print(\"Generare BERT embeddings...\")\n",
    "for sentence in tqdm(df['sentence'].tolist()):\n",
    "    emb = get_bert_embedding(sentence)\n",
    "    embeddings.append(emb)\n"
   ]
  },
  {
   "cell_type": "code",
   "execution_count": null,
   "id": "6256efb2",
   "metadata": {},
   "outputs": [],
   "source": [
    "\n",
    "X = np.array(embeddings)\n",
    "y = df['label'].values\n",
    "\n",
    "X_train, X_test, y_train, y_test = train_test_split(X, y, test_size=0.2, stratify=y, random_state=42)\n",
    "\n",
    "svm = SVC(kernel='linear', C=1, random_state=42)\n",
    "svm.fit(X_train, y_train)\n",
    "\n",
    "y_pred = svm.predict(X_test)\n",
    "\n",
    "print(\"Accuracy:\", accuracy_score(y_test, y_pred))\n",
    "print(\"Classification Report:\\n\", classification_report(y_test, y_pred))\n",
    "print(\"Confusion Matrix:\\n\", pd.crosstab(y_test, y_pred, rownames=['Actual'], colnames=['Predicted'], margins=True))\n"
   ]
  }
 ],
 "metadata": {
  "kernelspec": {
   "display_name": "Python 3",
   "language": "python",
   "name": "python3"
  },
  "language_info": {
   "codemirror_mode": {
    "name": "ipython",
    "version": 3
   },
   "file_extension": ".py",
   "mimetype": "text/x-python",
   "name": "python",
   "nbconvert_exporter": "python",
   "pygments_lexer": "ipython3",
   "version": "3.12.0"
  }
 },
 "nbformat": 4,
 "nbformat_minor": 5
}
