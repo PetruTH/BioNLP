{
 "cells": [
  {
   "cell_type": "code",
   "execution_count": null,
   "id": "d08eaea9",
   "metadata": {},
   "outputs": [],
   "source": [
    "import pandas as pd\n",
    "import matplotlib.pyplot as plt\n",
    "\n",
    "df = pd.read_csv('fullDataset.csv')\n",
    "\n",
    "total_rows = len(df)\n",
    "print(f\"Total rows: {total_rows}\")\n",
    "\n",
    "label_counts = df['label'].value_counts().sort_index()\n",
    "print(\"Rows per label:\")\n",
    "print(label_counts)\n",
    "\n",
    "label_names = {0: 'Depression', 1: 'Non-Depression'}\n",
    "label_counts.index = [label_names.get(i, i) for i in label_counts.index]\n",
    "\n",
    "label_counts.plot(kind='bar')\n",
    "plt.xlabel('Label (0 = Depression, 1 = Non-Depression)')\n",
    "plt.ylabel('Count')\n",
    "plt.title('Label Distribution')\n",
    "plt.show()"
   ]
  },
  {
   "cell_type": "code",
   "execution_count": null,
   "id": "c7dcdd7d",
   "metadata": {},
   "outputs": [],
   "source": [
    "import pandas as pd\n",
    "import matplotlib.pyplot as plt\n",
    "\n",
    "df = pd.read_csv('fullDataset.csv')\n",
    "\n",
    "label_names = {0: 'Depression', 1: 'Non-Depression'}\n",
    "df['label_name'] = df['label'].map(label_names)\n",
    "\n",
    "combo_counts = df.groupby(['source', 'label_name']).size().unstack(fill_value=0)\n",
    "\n",
    "combo_counts.plot(kind='bar', stacked=False)\n",
    "plt.xlabel('Source')\n",
    "plt.ylabel('Count')\n",
    "plt.title('Distribution of Source-Label Combinations')\n",
    "plt.legend(title='Label')\n",
    "plt.tight_layout()\n",
    "plt.show()"
   ]
  }
 ],
 "metadata": {
  "kernelspec": {
   "display_name": "Python 3",
   "language": "python",
   "name": "python3"
  },
  "language_info": {
   "codemirror_mode": {
    "name": "ipython",
    "version": 3
   },
   "file_extension": ".py",
   "mimetype": "text/x-python",
   "name": "python",
   "nbconvert_exporter": "python",
   "pygments_lexer": "ipython3",
   "version": "3.12.10"
  }
 },
 "nbformat": 4,
 "nbformat_minor": 5
}
